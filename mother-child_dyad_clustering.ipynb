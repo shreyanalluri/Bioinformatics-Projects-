{
 "cells": [
  {
   "cell_type": "markdown",
   "id": "6b3003e0",
   "metadata": {},
   "source": [
    "Paper: https://www.nature.com/articles/s41467-023-41421-4\n",
    "Data: https://static-content.springer.com/esm/art%3A10.1038%2Fs41467-023-41421-4/MediaObjects/41467_2023_41421_MOESM5_ESM.xlsx"
   ]
  },
  {
   "cell_type": "code",
   "execution_count": null,
   "id": "c7af395d",
   "metadata": {},
   "outputs": [],
   "source": [
    "import pandas as pd\n",
    "import numpy as np\n",
    "from sklearn.metrics import pairwise_distances\n",
    "from sklearn.manifold import MDS\n",
    "from sklearn.mixture import BayesianGaussianMixture\n",
    "from joblib import Parallel, delayed\n",
    "import warnings\n",
    "import matplotlib.pyplot as plt\n",
    "import seaborn as sns\n",
    "from scipy.stats import mannwhitneyu\n",
    "from statsmodels.stats.multitest import multipletests"
   ]
  },
  {
   "cell_type": "code",
   "execution_count": null,
   "id": "82481528",
   "metadata": {
    "scrolled": true
   },
   "outputs": [],
   "source": [
    "# Read the Excel file into a pandas DataFrame and perform clean-up\n",
    "df = pd.read_csv('asv_data.csv', skiprows=3, low_memory = False).iloc[:, 1:]\n",
    "df.columns = df.iloc[0]\n",
    "df = df.iloc[1:]"
   ]
  },
  {
   "cell_type": "code",
   "execution_count": null,
   "id": "9c0c91c0",
   "metadata": {},
   "outputs": [],
   "source": [
    "#Split df into 2 separate dfs for easier use \n",
    "metadata = df.iloc[:, 0:12]\n",
    "metadata.columns = [\"Sample ID\", \"Mother/Child\", \"Sex\", \"Age\", \"Dyad ID\", \"16S accession\", \n",
    "                     \"WMS accession\", \"Antibiotic exposure time\", \"Antibiotic\", \n",
    "                     \"Social Disadvantage score\", \"Psychological stress score\", \"Mother's IL-6 T3\"]\n",
    "metadata = metadata.iloc[3:, :]\n",
    "metadata = metadata.set_index(\"Sample ID\")\n",
    "\n",
    "asv_16s = df.iloc[:, 2747:5820].rename(columns=df.iloc[0]).iloc[3:, :]\n",
    "asv_16s = asv_16s.set_index(metadata.index) "
   ]
  },
  {
   "cell_type": "code",
   "execution_count": null,
   "id": "94318fcf",
   "metadata": {},
   "outputs": [],
   "source": [
    "#Clean data and select child data only for NMDS/DMM plot  \n",
    "asv_16s_meta = pd.concat([metadata, asv_16s], axis=1)\n",
    "\n",
    "#select rows that contain data for children only \n",
    "child_df = asv_16s_meta[asv_16s_meta['Mother/Child'] == 'Child']#.iloc[:,12:]\n",
    "NMDS_data = child_df.iloc[:,12:]\n",
    "\n",
    "#select columns that have at least 3 reads \n",
    "child_df = child_df.apply(pd.to_numeric, errors='coerce')\n",
    "non_zero_counts = child_df.apply(lambda x: (x.astype(bool)).sum(), axis=0)\n",
    "filtered_child_meta = child_df.loc[:, non_zero_counts >= 3] #create filtered df with metadata \n",
    "filtered_child_df = filtered_child_meta.iloc[:,12:] #filtered df without metadata "
   ]
  },
  {
   "cell_type": "code",
   "execution_count": null,
   "id": "2aec2864",
   "metadata": {},
   "outputs": [],
   "source": [
    "#Dimensionality Reduction \n",
    "def calculate_nmds(data):\n",
    "    #calculate dissimilarity matrix \n",
    "    dis_matrix = pairwise_distances(data, metric='braycurtis')\n",
    "    #perform 500 initialization of NMDS \n",
    "    mds = MDS(n_components=2, dissimilarity='precomputed', normalized_stress='auto', max_iter=500, n_init=500)\n",
    "    mds_result = mds.fit_transform(dis_matrix)\n",
    "    return mds_result\n",
    "\n",
    "#DMM Clustering \n",
    "def cluster_iteration(data):\n",
    "    #create Bayseiangaussianmixture model \n",
    "    bgm = BayesianGaussianMixture(n_components=2, random_state=42, max_iter=500, n_init=500,weight_concentration_prior_type='dirichlet_distribution')\n",
    "    #assign clusters based on model \n",
    "    cluster_labels = bgm.fit_predict(data)\n",
    "    #save clustering results to dataframe \n",
    "    df_meta = pd.DataFrame({'NMDS 1': mds_result[:, 0], 'NMDS 2': mds_result[:, 1], 'Cluster': cluster_labels})\n",
    "    df_meta['Cluster'] = df_meta['Cluster'].map({0: 1, 1: 2})\n",
    "    return df_meta\n",
    "\n",
    "# NMDS calculation\n",
    "mds_result = calculate_nmds(filtered_child_df)\n",
    "\n",
    "best_df_meta = cluster_iteration(filtered_child_df)\n"
   ]
  },
  {
   "cell_type": "code",
   "execution_count": null,
   "id": "26fe9563",
   "metadata": {},
   "outputs": [],
   "source": [
    "#Plot clustering results \n",
    "\n",
    "#set plot style and colors \n",
    "sns.set(style=\"white\") \n",
    "colors = [\"#00AFF0\", \"#FCC101\"]\n",
    "\n",
    "#Plot clustering results such that position of points are based on NMDS and color is based on clustering result \n",
    "sns.scatterplot(x='NMDS 1', y='NMDS 2', hue='Cluster', palette=colors, data=best_df_meta)\n",
    "plt.legend(title='Cluster', loc='upper center', bbox_to_anchor=(1.2, 0.5), borderaxespad=0.)\n",
    "plt.show()"
   ]
  },
  {
   "cell_type": "code",
   "execution_count": null,
   "id": "238ee113",
   "metadata": {},
   "outputs": [],
   "source": [
    "#extract cluster column\n",
    "cluster_df = best_df_meta[['Cluster']]\n",
    "\n",
    "#reset indices for both dataframes\n",
    "filtered_child_meta_reset = filtered_child_meta.reset_index(drop=True)\n",
    "cluster_df_reset = cluster_df.reset_index(drop=True)\n",
    "#merge the two dataframes on their new indices\n",
    "result_df = pd.concat([filtered_child_meta_reset, cluster_df_reset], axis=1)"
   ]
  },
  {
   "cell_type": "code",
   "execution_count": null,
   "id": "9f68fac8",
   "metadata": {},
   "outputs": [],
   "source": [
    "#set Seaborn style and colors\n",
    "sns.set(style=\"white\") \n",
    "colors = [\"#D3EEFF\", \"#FFF2D2\"]\n",
    "palette = sns.set_palette(sns.color_palette(colors))\n",
    "\n",
    "dot_colors = [\"#00AFF0\", \"#FCC101\"]\n",
    "\n",
    "#create two subplots that share a y axis \n",
    "fig, axes = plt.subplots(1, 2, figsize=(12, 6), sharey=True)\n",
    "\n",
    "#plot social disadvantage score boxplots \n",
    "sns.boxplot(x='Cluster', y='Social Disadvantage score', data=result_df, ax=axes[0], palette=palette)\n",
    "\n",
    "#plot individual datapoints on top of box plot \n",
    "sns.stripplot(x='Cluster', y='Social Disadvantage score', data=result_df, hue='Cluster', palette=dot_colors,\n",
    "              edgecolor='black', linewidth=1, alpha=0.5, size=5, ax=axes[0])\n",
    "axes[0].set_title('Social Disadvantage Score')\n",
    "axes[0].get_legend().remove()\n",
    "axes[0].set_ylim(bottom=result_df['Social Disadvantage score'].min() - 0.5,\n",
    "                 top=result_df['Psychological stress score'].max() + 1.5)\n",
    "\n",
    "#plot psychological stress score boxplots \n",
    "sns.boxplot(x='Cluster', y='Psychological stress score', data=result_df, ax=axes[1], palette=palette)\n",
    "# plot individual datapoints on top of box plot\n",
    "sns.stripplot(x='Cluster', y='Psychological stress score', data=result_df, hue='Cluster', palette=dot_colors,\n",
    "              edgecolor='black',linewidth=1, alpha=0.5, size=5, ax=axes[1])\n",
    "axes[1].set_title('Psychological Stress Score')\n",
    "\n",
    "#merge plots to look closer to the original figures plots \n",
    "axes[1].set(ylabel='') \n",
    "axes[1].tick_params(left=False)  \n",
    "\n",
    "#set y-axis label \n",
    "axes[0].set_ylabel('SD or PS score', fontsize=12)\n",
    "\n",
    "# set style for axes \n",
    "for ax in axes:\n",
    "    ax.tick_params(axis='both', labelsize=10)\n",
    "    ax.set_xlabel('Cluster', fontsize=12)\n",
    "\n",
    "#calculate p-values\n",
    "for i, column in enumerate(['Social Disadvantage score', 'Psychological stress score']):\n",
    "    data_cluster_1 = result_df[result_df['Cluster'] == 1][column]\n",
    "    data_cluster_2 = result_df[result_df['Cluster'] == 2][column]\n",
    "\n",
    "    #Mann-Whitney U-test\n",
    "    stat, p_value = mannwhitneyu(data_cluster_1, data_cluster_2, alternative='two-sided')\n",
    "\n",
    "    #FDR adjustment\n",
    "    reject, p_value_corrected, _, _ = multipletests(p_value, method='fdr_bh')\n",
    "\n",
    "    #add bracket annotation above the boxplots and display p value \n",
    "    x1, x2 = 0, 1  # columns 'Cluster 1' and 'Cluster 2'\n",
    "    y, h, col = result_df[column].max() + 0.25, 0.5, 'k'\n",
    "\n",
    "    axes[i].plot([x1, x1, x2, x2], [y, y+h, y+h, y], lw=1.5, c=col)\n",
    "    axes[i].text((x1 + x2) * 0.5, y + h + 0.1, f'p = {p_value_corrected[0]:.2e}', ha='center', va='bottom', color=col, fontsize=10)\n",
    "\n",
    "# Adjust the spacing between subplots\n",
    "plt.subplots_adjust(wspace=0,hspace = 0) \n",
    "\n",
    "#set legend position \n",
    "handles, labels = axes[1].get_legend_handles_labels()\n",
    "legend = axes[1].legend(handles, labels, title='Cluster', loc='center left', bbox_to_anchor=(1, 0.5))\n",
    "\n",
    "plt.show()\n"
   ]
  }
 ],
 "metadata": {
  "kernelspec": {
   "display_name": "Python 3 (ipykernel)",
   "language": "python",
   "name": "python3"
  },
  "language_info": {
   "codemirror_mode": {
    "name": "ipython",
    "version": 3
   },
   "file_extension": ".py",
   "mimetype": "text/x-python",
   "name": "python",
   "nbconvert_exporter": "python",
   "pygments_lexer": "ipython3",
   "version": "3.11.5"
  }
 },
 "nbformat": 4,
 "nbformat_minor": 5
}
